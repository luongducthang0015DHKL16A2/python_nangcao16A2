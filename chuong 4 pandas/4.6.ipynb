{
 "cells": [
  {
   "cell_type": "code",
   "execution_count": 12,
   "metadata": {},
   "outputs": [],
   "source": [
    "import pandas as pd\n",
    "import numpy as np\n",
    "\n"
   ]
  },
  {
   "cell_type": "code",
   "execution_count": 15,
   "metadata": {},
   "outputs": [
    {
     "data": {
      "text/plain": [
       "0     a\n",
       "1     f\n",
       "2     g\n",
       "3     b\n",
       "4     g\n",
       "5     b\n",
       "6     f\n",
       "7     c\n",
       "8     e\n",
       "9     a\n",
       "10    f\n",
       "11    f\n",
       "12    e\n",
       "13    a\n",
       "14    b\n",
       "15    e\n",
       "16    g\n",
       "17    d\n",
       "18    g\n",
       "19    g\n",
       "20    e\n",
       "21    c\n",
       "22    e\n",
       "23    e\n",
       "24    d\n",
       "25    b\n",
       "26    c\n",
       "27    h\n",
       "28    h\n",
       "29    e\n",
       "dtype: object"
      ]
     },
     "execution_count": 15,
     "metadata": {},
     "output_type": "execute_result"
    }
   ],
   "source": [
    "ser=pd.Series(np.take(list('abcdefgh'),np.random.randint(8,size=30)))\n",
    "ser"
   ]
  },
  {
   "cell_type": "code",
   "execution_count": 17,
   "metadata": {},
   "outputs": [
    {
     "data": {
      "text/plain": [
       "e    7\n",
       "g    5\n",
       "f    4\n",
       "b    4\n",
       "a    3\n",
       "c    3\n",
       "d    2\n",
       "h    2\n",
       "dtype: int64"
      ]
     },
     "execution_count": 17,
     "metadata": {},
     "output_type": "execute_result"
    }
   ],
   "source": [
    "#tinhs so lan xuat hien cua moi gia tri duy nhat trong ser\n",
    "add=ser.value_counts()\n",
    "add"
   ]
  }
 ],
 "metadata": {
  "kernelspec": {
   "display_name": "base",
   "language": "python",
   "name": "python3"
  },
  "language_info": {
   "codemirror_mode": {
    "name": "ipython",
    "version": 3
   },
   "file_extension": ".py",
   "mimetype": "text/x-python",
   "name": "python",
   "nbconvert_exporter": "python",
   "pygments_lexer": "ipython3",
   "version": "3.11.4"
  }
 },
 "nbformat": 4,
 "nbformat_minor": 2
}
