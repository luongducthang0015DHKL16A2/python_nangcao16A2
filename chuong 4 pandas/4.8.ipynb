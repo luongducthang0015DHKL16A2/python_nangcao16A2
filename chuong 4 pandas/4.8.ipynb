{
 "cells": [
  {
   "cell_type": "code",
   "execution_count": 11,
   "metadata": {},
   "outputs": [],
   "source": [
    "import pandas as pd\n",
    "import numpy as np"
   ]
  },
  {
   "cell_type": "code",
   "execution_count": 12,
   "metadata": {},
   "outputs": [],
   "source": [
    "ser=pd.Series(np.random.random(20))"
   ]
  },
  {
   "cell_type": "code",
   "execution_count": 13,
   "metadata": {},
   "outputs": [
    {
     "data": {
      "text/plain": [
       "0      decile_4\n",
       "1      decile_6\n",
       "2      decile_2\n",
       "3      decile_3\n",
       "4      decile_9\n",
       "5      decile_3\n",
       "6      decile_4\n",
       "7      decile_9\n",
       "8     decile_10\n",
       "9     decile_10\n",
       "10     decile_7\n",
       "11     decile_5\n",
       "12     decile_8\n",
       "13     decile_8\n",
       "14     decile_1\n",
       "15     decile_7\n",
       "16     decile_5\n",
       "17     decile_2\n",
       "18     decile_6\n",
       "19     decile_1\n",
       "dtype: category\n",
       "Categories (10, object): ['decile_1' < 'decile_2' < 'decile_3' < 'decile_4' ... 'decile_7' < 'decile_8' < 'decile_9' < 'decile_10']"
      ]
     },
     "execution_count": 13,
     "metadata": {},
     "output_type": "execute_result"
    }
   ],
   "source": [
    "# Chia ser thành 10 phân vị bằng nhau\n",
    "labels = [\"decile_{0}\".format(i) for i in range(1, 11)]\n",
    "ser = pd.qcut(ser, 10, labels=labels)\n",
    "ser"
   ]
  }
 ],
 "metadata": {
  "kernelspec": {
   "display_name": "base",
   "language": "python",
   "name": "python3"
  },
  "language_info": {
   "codemirror_mode": {
    "name": "ipython",
    "version": 3
   },
   "file_extension": ".py",
   "mimetype": "text/x-python",
   "name": "python",
   "nbconvert_exporter": "python",
   "pygments_lexer": "ipython3",
   "version": "3.11.4"
  }
 },
 "nbformat": 4,
 "nbformat_minor": 2
}
