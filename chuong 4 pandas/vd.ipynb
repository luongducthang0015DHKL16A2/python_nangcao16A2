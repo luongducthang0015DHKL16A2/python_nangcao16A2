{
 "cells": [
  {
   "cell_type": "code",
   "execution_count": 1,
   "metadata": {},
   "outputs": [
    {
     "name": "stdout",
     "output_type": "stream",
     "text": [
      "   Drink  Quantity\n",
      "0   Coca         5\n",
      "2  Fanta         4\n",
      "1  Pepsi         3\n"
     ]
    }
   ],
   "source": [
    "import pandas as pd\n",
    "\n",
    "# Giả sử bạn có một DataFrame với thông tin về số lượng các loại nước ngọt\n",
    "df = pd.DataFrame({'Drink': ['Coca', 'Pepsi', 'Fanta'], 'Quantity': [5, 3, 4]})\n",
    "\n",
    "# Sắp xếp DataFrame theo 'Quantity' theo thứ tự giảm dần\n",
    "sorted_df = df.sort_values(by='Quantity', ascending=False)\n",
    "\n",
    "# In DataFrame đã sắp xếp\n",
    "print(sorted_df)"
   ]
  }
 ],
 "metadata": {
  "kernelspec": {
   "display_name": "base",
   "language": "python",
   "name": "python3"
  },
  "language_info": {
   "codemirror_mode": {
    "name": "ipython",
    "version": 3
   },
   "file_extension": ".py",
   "mimetype": "text/x-python",
   "name": "python",
   "nbconvert_exporter": "python",
   "pygments_lexer": "ipython3",
   "version": "3.11.4"
  }
 },
 "nbformat": 4,
 "nbformat_minor": 2
}
