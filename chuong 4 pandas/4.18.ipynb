{
 "cells": [
  {
   "cell_type": "code",
   "execution_count": 19,
   "metadata": {},
   "outputs": [],
   "source": [
    "import pandas as pd\n",
    "import numpy as np"
   ]
  },
  {
   "cell_type": "code",
   "execution_count": 21,
   "metadata": {},
   "outputs": [
    {
     "name": "stdout",
     "output_type": "stream",
     "text": [
      "duchthang@edu.vn\n",
      "ngoccuogn@gmail.com\n",
      "co23@t.co\n"
     ]
    }
   ],
   "source": [
    "emails=pd.Series(['buying books at amazon.com','duchthang@edu.vn','ngoccuogn@gmail.com','co23@t.co'])\n",
    "# Mẫu regex\n",
    "pattern = '[a-zA-Z0-9_\\.\\-]+@[a-zA-Z0-9\\-]+\\.[a-zA-Z0-9]{2,4}'\n",
    "\n",
    "# Sử dụng mẫu regex để trích xuất các địa chỉ email hợp lệ\n",
    "valid_emails = emails.str.extract('('+pattern+')', expand=False)\n",
    "\n",
    "# Loại bỏ các giá trị NaN\n",
    "valid_emails = valid_emails.dropna()\n",
    "\n",
    "# In ra các địa chỉ email hợp lệ\n",
    "for email in valid_emails:\n",
    "    print(email)\n"
   ]
  }
 ],
 "metadata": {
  "kernelspec": {
   "display_name": "base",
   "language": "python",
   "name": "python3"
  },
  "language_info": {
   "codemirror_mode": {
    "name": "ipython",
    "version": 3
   },
   "file_extension": ".py",
   "mimetype": "text/x-python",
   "name": "python",
   "nbconvert_exporter": "python",
   "pygments_lexer": "ipython3",
   "version": "3.11.4"
  }
 },
 "nbformat": 4,
 "nbformat_minor": 2
}
