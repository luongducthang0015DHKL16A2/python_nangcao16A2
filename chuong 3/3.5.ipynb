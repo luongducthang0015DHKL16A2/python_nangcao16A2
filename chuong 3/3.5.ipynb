{
 "cells": [
  {
   "cell_type": "code",
   "execution_count": 11,
   "metadata": {},
   "outputs": [
    {
     "name": "stdout",
     "output_type": "stream",
     "text": [
      "Không thể chuyển đổi giá trị '﻿74' trong tập tin heights_1.txt thành số.\n",
      "Không thể chuyển đổi giá trị '﻿180' trong tập tin weights_1.txt thành số.\n",
      "Giá trị cân nặng ở vị trí index = 50: 90.7184\n",
      "arr_height_m_100: [1.8796 1.8288 1.8542 1.7526 1.8288 1.8542 1.905  1.905  1.8542 1.8288\n",
      " 1.8288]\n",
      "Số lượng cầu thủ có bmi < 21: 11\n",
      "Chiều cao trung bình: 1.8717094674556212, Cân nặng trung bình: 91.33974052071005\n",
      "Chiều cao lớn nhất: 2.1082, Cân nặng lớn nhất: 131.54167999999999\n",
      "Chiều cao nhỏ nhất: 1.7018, Cân nặng nhỏ nhất: 68.0388\n"
     ]
    }
   ],
   "source": [
    "import numpy as np\n",
    "\n",
    "def read_data_from_file(filename):\n",
    "      data = []\n",
    "      try:\n",
    "            with open(filename, 'r') as f:\n",
    "                  for line in f:\n",
    "                # Phân tách dòng bằng dấu phẩy\n",
    "                        values = line.strip().split(',')\n",
    "                  for value in values:\n",
    "                        try:\n",
    "                        # Chuyển đổi từng giá trị thành số thực và thêm vào danh sách\n",
    "                              data.append(float(value))\n",
    "                        except ValueError:\n",
    "                              print(f\"Không thể chuyển đổi giá trị '{value}' trong tập tin {filename} thành số.\")\n",
    "      except FileNotFoundError:\n",
    "        print(f\"Tập tin {filename} không tồn tại.\")\n",
    "      return data\n",
    "# Đọc dữ liệu từ tập tin\n",
    "height = read_data_from_file('heights_1.txt')\n",
    "weight = read_data_from_file('weights_1.txt')\n",
    "\n",
    "if len(height) > 0 and len(weight) > 0:\n",
    "    # Tạo numpy array từ list\n",
    "    arr_height = np.array(height)\n",
    "    arr_weight = np.array(weight)\n",
    "\n",
    "    # Chuyển đổi đơn vị\n",
    "    arr_height_m = arr_height * 0.0254\n",
    "    arr_weight_kg = arr_weight * 0.453592\n",
    "\n",
    "    # Tính BMI\n",
    "    arr_bmi = arr_weight_kg / (arr_height_m ** 2)\n",
    "\n",
    "    # Truy xuất giá trị cân nặng ở vị trí index = 50, nếu có thể\n",
    "    if len(arr_weight_kg) > 50:\n",
    "        weight_at_50 = arr_weight_kg[50]\n",
    "        print(f\"Giá trị cân nặng ở vị trí index = 50: {weight_at_50}\")\n",
    "    \n",
    "    # Tạo arr_height_m_100, nếu có thể\n",
    "    if len(arr_height_m) > 110:\n",
    "        arr_height_m_100 = arr_height_m[100:111]\n",
    "        print(f\"arr_height_m_100: {arr_height_m_100}\")\n",
    "    \n",
    "    # Tìm các cầu thủ có bmi < 21\n",
    "    players_with_bmi_less_than_21 = arr_bmi[arr_bmi < 21]\n",
    "    print(f\"Số lượng cầu thủ có bmi < 21: {len(players_with_bmi_less_than_21)}\")\n",
    "\n",
    "    # Tính chiều cao và cân nặng trung bình\n",
    "    average_height = np.mean(arr_height_m)\n",
    "    average_weight = np.mean(arr_weight_kg)\n",
    "    print(f\"Chiều cao trung bình: {average_height}, Cân nặng trung bình: {average_weight}\")\n",
    "\n",
    "    # Tìm chiều cao và cân nặng lớn nhất\n",
    "    max_height = np.max(arr_height_m)\n",
    "    max_weight = np.max(arr_weight_kg)\n",
    "    print(f\"Chiều cao lớn nhất: {max_height}, Cân nặng lớn nhất: {max_weight}\")\n",
    "\n",
    "    # Tìm chiều cao và cân nặng nhỏ nhất\n",
    "    min_height = np.min(arr_height_m)\n",
    "    min_weight = np.min(arr_weight_kg)\n",
    "    print(f\"Chiều cao nhỏ nhất: {min_height}, Cân nặng nhỏ nhất: {min_weight}\")\n"
   ]
  }
 ],
 "metadata": {
  "kernelspec": {
   "display_name": "base",
   "language": "python",
   "name": "python3"
  },
  "language_info": {
   "codemirror_mode": {
    "name": "ipython",
    "version": 3
   },
   "file_extension": ".py",
   "mimetype": "text/x-python",
   "name": "python",
   "nbconvert_exporter": "python",
   "pygments_lexer": "ipython3",
   "version": "3.11.4"
  }
 },
 "nbformat": 4,
 "nbformat_minor": 2
}
