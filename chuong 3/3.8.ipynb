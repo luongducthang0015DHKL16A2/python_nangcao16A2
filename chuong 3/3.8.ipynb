{
 "cells": [
  {
   "cell_type": "code",
   "execution_count": 4,
   "metadata": {},
   "outputs": [
    {
     "name": "stdout",
     "output_type": "stream",
     "text": [
      "Chiều cao trung bình của A: 180.93852065321806\n",
      "Chiều cao trung bình của D: 183.14566929133858\n",
      "Chiều cao trung bình của GK: 188.23035522066738\n",
      "Chiều cao trung bình của M: 179.0417625780993\n",
      "Chiều cao trung bình của ﻿GK: 191.0\n",
      "Vị trí có chiều cao thấp nhất:  M\n",
      "Vị trí có chiều cao cao nhất:  GK\n"
     ]
    }
   ],
   "source": [
    "import numpy as np\n",
    "\n",
    "# Đọc dữ liệu từ tập tin\n",
    "with open('positions.txt', 'r') as f:\n",
    "    positions = f.read().strip().split(',')\n",
    "with open('heights.txt', 'r', encoding='utf-8-sig') as f:\n",
    "    heights = [float(value) for line in f for value in line.strip().split(',')]\n",
    "\n",
    "# Kiểm tra xem số lượng vị trí có khớp với số lượng chiều cao không\n",
    "if len(positions) != len(heights):\n",
    "    print(\"Số lượng vị trí và chiều cao không khớp. Vui lòng kiểm tra lại dữ liệu.\")\n",
    "else:\n",
    "    # Chuyển đổi danh sách thành mảng numpy\n",
    "    np_positions = np.array(positions)\n",
    "    np_heights = np.array(heights)\n",
    "\n",
    "    # Tính toán và in ra các giá trị cần thiết\n",
    "    for position in np.unique(np_positions):\n",
    "        avg_height = np.mean(np_heights[np_positions == position])\n",
    "        print(f\"Chiều cao trung bình của {position}: {avg_height}\")\n",
    "\n",
    "    # Tạo mảng dữ liệu có cấu trúc\n",
    "    players = np.zeros(len(np_positions), dtype={'names':('position', 'height'), 'formats':('U5', 'f8')})\n",
    "    players['position'] = np_positions\n",
    "    players['height'] = np_heights\n",
    "\n",
    "    # Sắp xếp và in ra vị trí có chiều cao cao nhất và thấp nhất\n",
    "    players_sorted = np.sort(players, order='height')\n",
    "    print(\"Vị trí có chiều cao thấp nhất: \", players_sorted[0]['position'])\n",
    "    print(\"Vị trí có chiều cao cao nhất: \", players_sorted[-1]['position'])\n"
   ]
  }
 ],
 "metadata": {
  "kernelspec": {
   "display_name": "base",
   "language": "python",
   "name": "python3"
  },
  "language_info": {
   "codemirror_mode": {
    "name": "ipython",
    "version": 3
   },
   "file_extension": ".py",
   "mimetype": "text/x-python",
   "name": "python",
   "nbconvert_exporter": "python",
   "pygments_lexer": "ipython3",
   "version": "3.11.4"
  }
 },
 "nbformat": 4,
 "nbformat_minor": 2
}
