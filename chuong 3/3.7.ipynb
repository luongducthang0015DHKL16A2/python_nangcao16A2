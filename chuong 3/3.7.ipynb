{
 "cells": [
  {
   "cell_type": "code",
   "execution_count": 1,
   "metadata": {},
   "outputs": [
    {
     "name": "stdout",
     "output_type": "stream",
     "text": [
      "Kiểu dữ liệu của np_baseball: float64\n",
      "Kích thước của np_baseball: (1015, 2)\n",
      "Dòng thứ 50 trong np_baseball: [ 70. 195.]\n",
      "Chiều cao của vận động viên thứ 124: 75.0\n",
      "Chiều cao trung bình: 73.6896551724138, Cân nặng trung bình: 201.34876847290641\n",
      "Chiều cao và cân nặng có mối tương quan thuận.\n"
     ]
    }
   ],
   "source": [
    "import numpy as np\n",
    "import ast\n",
    "\n",
    "def read_data_from_file(filename):\n",
    "    data = []\n",
    "    try:\n",
    "        with open(filename, 'r', encoding='utf-8-sig') as f:\n",
    "            for line in f:\n",
    "                # Loại bỏ dấu ngoặc vuông và phân tách dòng bằng dấu phẩy\n",
    "                values = ast.literal_eval(line.strip())\n",
    "                for value in values:\n",
    "                    try:\n",
    "                        # Chuyển đổi từng giá trị thành số thực và thêm vào danh sách\n",
    "                        data.append([float(v) for v in value])\n",
    "                    except ValueError:\n",
    "                        print(f\"Không thể chuyển đổi giá trị '{value}' trong tập tin {filename} thành số.\")\n",
    "    except FileNotFoundError:\n",
    "        print(f\"Tập tin {filename} không tồn tại.\")\n",
    "    return data\n",
    "\n",
    "# Đọc dữ liệu từ tập tin\n",
    "baseball = read_data_from_file('baseball_2D.txt')\n",
    "\n",
    "if len(baseball) > 0:\n",
    "    # Tạo 2D numpy array từ baseball\n",
    "    np_baseball = np.array(baseball)\n",
    "\n",
    "    # Xem kiểu dữ liệu và kích thước của np_baseball\n",
    "    print(f\"Kiểu dữ liệu của np_baseball: {np_baseball.dtype}\")\n",
    "    print(f\"Kích thước của np_baseball: {np_baseball.shape}\")\n",
    "\n",
    "    # In các giá trị của dòng thứ 50 trong np_baseball\n",
    "    if len(np_baseball) > 50:\n",
    "        print(f\"Dòng thứ 50 trong np_baseball: {np_baseball[49]}\")\n",
    "    \n",
    "    # Tạo numpy array np_weight với dữ liệu được lấy từ cột hai của np_baseball\n",
    "    np_weight = np_baseball[:, 1]\n",
    "\n",
    "    # Cho biết chiều cao của vận động viên thứ 124\n",
    "    if len(np_baseball) > 124:\n",
    "        print(f\"Chiều cao của vận động viên thứ 124: {np_baseball[123, 0]}\")\n",
    "\n",
    "    # Cho biết chiều cao trung bình, cân nặng trung bình của các cầu thủ\n",
    "    average_height = np.mean(np_baseball[:, 0])\n",
    "    average_weight = np.mean(np_weight)\n",
    "    print(f\"Chiều cao trung bình: {average_height}, Cân nặng trung bình: {average_weight}\")\n",
    "\n",
    "    # Nhận xét về mối tương quan giữa chiều cao và cân nặng của các cầu thủ\n",
    "    correlation = np.corrcoef(np_baseball[:, 0], np_weight)[0, 1]\n",
    "    if correlation > 0:\n",
    "        print(\"Chiều cao và cân nặng có mối tương quan thuận.\")\n",
    "    elif correlation < 0:\n",
    "        print(\"Chiều cao và cân nặng có mối tương quan nghịch.\")\n",
    "    else:\n",
    "        print(\"Chiều cao và cân nặng không có mối tương quan.\")\n"
   ]
  }
 ],
 "metadata": {
  "kernelspec": {
   "display_name": "base",
   "language": "python",
   "name": "python3"
  },
  "language_info": {
   "codemirror_mode": {
    "name": "ipython",
    "version": 3
   },
   "file_extension": ".py",
   "mimetype": "text/x-python",
   "name": "python",
   "nbconvert_exporter": "python",
   "pygments_lexer": "ipython3",
   "version": "3.11.4"
  }
 },
 "nbformat": 4,
 "nbformat_minor": 2
}
