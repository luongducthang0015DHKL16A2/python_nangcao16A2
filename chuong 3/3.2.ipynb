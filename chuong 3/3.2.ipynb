{
 "cells": [
  {
   "cell_type": "markdown",
   "metadata": {},
   "source": [
    "# Tạo numpy array arr có giá trị từ 0-9. Hiển thị các phần tử có trong arr, xem kiểu dữ liệu và kích thước của arr. "
   ]
  },
  {
   "cell_type": "code",
   "execution_count": 20,
   "metadata": {},
   "outputs": [
    {
     "name": "stdout",
     "output_type": "stream",
     "text": [
      "arr: [0 1 2 3 4 5 6 7 8 9]\n",
      "kieu du lieu cua arr : int32\n",
      "kich thuoc cua arr la : 10\n"
     ]
    }
   ],
   "source": [
    "import numpy as np\n",
    "\n",
    "arr = np.arange(10)\n",
    "print(\"arr:\",arr)\n",
    "print('kieu du lieu cua arr :',arr.dtype)\n",
    "print('kich thuoc cua arr la :',arr.size)"
   ]
  },
  {
   "cell_type": "markdown",
   "metadata": {},
   "source": [
    "# Từ array arr ở câu 1 => tạo arr_odd và arr_even. (odd: so le va even: so chan)"
   ]
  },
  {
   "cell_type": "code",
   "execution_count": 22,
   "metadata": {},
   "outputs": [
    {
     "name": "stdout",
     "output_type": "stream",
     "text": [
      "[1 3 5 7 9]\n",
      "[0 2 4 6 8]\n"
     ]
    }
   ],
   "source": [
    "arr_odd=arr[arr % 2 !=0]\n",
    "arr_even=arr[arr % 2 ==0]\n",
    "print(arr_odd)\n",
    "print(arr_even)"
   ]
  },
  {
   "cell_type": "markdown",
   "metadata": {},
   "source": [
    "# Từ array arr ở câu 1 => tạo arr_update_1 với các phần tử chẵn giữ nguyên, các phần tử lẻ thay bằng 100. \n"
   ]
  },
  {
   "cell_type": "code",
   "execution_count": 29,
   "metadata": {},
   "outputs": [
    {
     "name": "stdout",
     "output_type": "stream",
     "text": [
      "[  0 100   2 100   4 100   6 100   8 100]\n"
     ]
    }
   ],
   "source": [
    "for i in range(len(arr)):\n",
    "      if arr[i] % 2 !=0:\n",
    "            arr[i]=100\n",
    "arr_update=arr\n",
    "print(arr_update)"
   ]
  }
 ],
 "metadata": {
  "kernelspec": {
   "display_name": "base",
   "language": "python",
   "name": "python3"
  },
  "language_info": {
   "codemirror_mode": {
    "name": "ipython",
    "version": 3
   },
   "file_extension": ".py",
   "mimetype": "text/x-python",
   "name": "python",
   "nbconvert_exporter": "python",
   "pygments_lexer": "ipython3",
   "version": "3.11.4"
  }
 },
 "nbformat": 4,
 "nbformat_minor": 2
}
